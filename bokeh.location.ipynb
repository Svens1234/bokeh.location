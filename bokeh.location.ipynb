{
 "cells": [
  {
   "cell_type": "code",
   "execution_count": 1,
   "id": "280e4c07",
   "metadata": {},
   "outputs": [],
   "source": [
    "import numpy as np\n",
    "\n",
    "from bokeh.plotting import figure, output_file, show"
   ]
  },
  {
   "cell_type": "code",
   "execution_count": 4,
   "id": "9bb95420",
   "metadata": {},
   "outputs": [],
   "source": [
    "x = np.linspace(0, 4*np.pi, 100)\n",
    "y = np.sin(x)\n",
    "\n",
    "output_file(\"legend_labels.html\")\n",
    "\n",
    "p = figure()\n",
    "\n",
    "p.circle(x, y, legend_label=\"sin(x)\")\n",
    "p.line(x, y, legend_label=\"sin(x)\")\n",
    "\n",
    "p.line(x, 2*y, legend_label=\"2*sin(x)\",\n",
    "       line_dash=[4, 4], line_color=\"orange\", line_width=2)\n",
    "\n",
    "p.square(x, 3*y, legend_label=\"3*sin(x)\", fill_color=None, line_color=\"green\")\n",
    "p.line(x, 3*y, legend_label=\"3*sin(x)\", line_color=\"green\")\n",
    "\n",
    "p.legend.location = \"top_left\"\n",
    "\n",
    "show(p)\n",
    "\n",
    "\n",
    "#\"top_left\"\n",
    "#\"top_center\"\n",
    "#\"top_right\" (the default)\n",
    "#\"center_right\"\n",
    "#\"bottom_right\"\n",
    "#\"bottom_center\"\n",
    "#\"bottom_left\"\n",
    "#\"center_left\"\n",
    "#\"center\""
   ]
  },
  {
   "cell_type": "code",
   "execution_count": null,
   "id": "15e8bf80",
   "metadata": {},
   "outputs": [],
   "source": []
  }
 ],
 "metadata": {
  "kernelspec": {
   "display_name": "Python 3 (ipykernel)",
   "language": "python",
   "name": "python3"
  },
  "language_info": {
   "codemirror_mode": {
    "name": "ipython",
    "version": 3
   },
   "file_extension": ".py",
   "mimetype": "text/x-python",
   "name": "python",
   "nbconvert_exporter": "python",
   "pygments_lexer": "ipython3",
   "version": "3.10.5"
  }
 },
 "nbformat": 4,
 "nbformat_minor": 5
}
